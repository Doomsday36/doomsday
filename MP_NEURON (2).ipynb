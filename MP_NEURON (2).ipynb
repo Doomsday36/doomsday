{
 "cells": [
  {
   "cell_type": "code",
   "execution_count": 1,
   "metadata": {},
   "outputs": [],
   "source": [
    "import numpy as np\n",
    "import pandas as pd"
   ]
  },
  {
   "cell_type": "code",
   "execution_count": 2,
   "metadata": {},
   "outputs": [],
   "source": [
    "class NLP:\n",
    "    def __init__(self, n_inputs=3,lst=[1,1,1],wts=[1,1,1],theta=2.5):\n",
    "        self.n_inputs=n_inputs\n",
    "        self.lst=lst\n",
    "        self.wts=wts\n",
    "        self.theta=theta\n",
    "    "
   ]
  },
  {
   "cell_type": "code",
   "execution_count": 3,
   "metadata": {},
   "outputs": [],
   "source": [
    "class MP_Neuron:\n",
    "    def __init__(self):\n",
    "        self.lst = [1,1,1]\n",
    "        self.wts = [1,1,1]\n",
    "        self.theta = 2.5\n",
    "        self.n = 3 \n",
    "             \n",
    "    def MP_Neuron_Input(self):\n",
    "        print(\"Intial lst\",self.lst)\n",
    "        self.n=int(input(\"n: \"))\n",
    "        self.lst=[]\n",
    "        self.wts=[]\n",
    "        for i in range(0,self.n):\n",
    "            element=int(input(\"elements: \"))\n",
    "            self.lst.append(element)\n",
    "        print(self.lst)\n",
    "        for j in range(0,self.n):\n",
    "            wt=int(input(\"weights: \"))\n",
    "            self.wts.append(wt)\n",
    "        print(self.wts)\n",
    "        self.theta=float(input(\"threshold: \"))\n",
    "    \n",
    "    def MP_Neuron_eval(self):\n",
    "        tot=0\n",
    "        for i in range(0,self.n):\n",
    "            tot+=self.lst[i]*self.wts[i]\n",
    "        if(tot>self.theta):\n",
    "            return 1\n",
    "        else:\n",
    "            return 0"
   ]
  },
  {
   "cell_type": "code",
   "execution_count": 4,
   "metadata": {},
   "outputs": [],
   "source": [
    "mp = MP_Neuron()"
   ]
  },
  {
   "cell_type": "code",
   "execution_count": 5,
   "metadata": {},
   "outputs": [
    {
     "name": "stdout",
     "output_type": "stream",
     "text": [
      "Intial lst [1, 1, 1]\n",
      "n: 3\n",
      "elements: 1\n",
      "elements: 1\n",
      "elements: 1\n",
      "[1, 1, 1]\n",
      "weights: 1\n",
      "weights: 1\n",
      "weights: 1\n",
      "[1, 1, 1]\n",
      "threshold: 2.5\n"
     ]
    }
   ],
   "source": [
    "mp.MP_Neuron_Input()"
   ]
  },
  {
   "cell_type": "code",
   "execution_count": 6,
   "metadata": {},
   "outputs": [
    {
     "data": {
      "text/plain": [
       "1"
      ]
     },
     "execution_count": 6,
     "metadata": {},
     "output_type": "execute_result"
    }
   ],
   "source": [
    "mp.MP_Neuron_eval()"
   ]
  },
  {
   "cell_type": "markdown",
   "metadata": {},
   "source": [
    "# final=MP_Neuron_eval()\n"
   ]
  },
  {
   "cell_type": "code",
   "execution_count": null,
   "metadata": {},
   "outputs": [],
   "source": []
  }
 ],
 "metadata": {
  "kernelspec": {
   "display_name": "Python 3",
   "language": "python",
   "name": "python3"
  },
  "language_info": {
   "codemirror_mode": {
    "name": "ipython",
    "version": 3
   },
   "file_extension": ".py",
   "mimetype": "text/x-python",
   "name": "python",
   "nbconvert_exporter": "python",
   "pygments_lexer": "ipython3",
   "version": "3.7.6"
  }
 },
 "nbformat": 4,
 "nbformat_minor": 4
}
